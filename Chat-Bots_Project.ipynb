{
 "cells": [
  {
   "cell_type": "code",
   "execution_count": 1,
   "metadata": {},
   "outputs": [],
   "source": [
    "import pickle\n",
    "import numpy as np"
   ]
  },
  {
   "cell_type": "code",
   "execution_count": 2,
   "metadata": {},
   "outputs": [],
   "source": [
    "with open(\"train_qa.txt\", \"rb\") as fp:   # Unpickling\n",
    "    train_data =  pickle.load(fp)"
   ]
  },
  {
   "cell_type": "code",
   "execution_count": 3,
   "metadata": {},
   "outputs": [],
   "source": [
    "with open(\"test_qa.txt\", \"rb\") as fp:   # Unpickling\n",
    "    test_data =  pickle.load(fp)"
   ]
  },
  {
   "cell_type": "code",
   "execution_count": 4,
   "metadata": {},
   "outputs": [
    {
     "data": {
      "text/plain": [
       "list"
      ]
     },
     "execution_count": 4,
     "metadata": {},
     "output_type": "execute_result"
    }
   ],
   "source": [
    "type(test_data)"
   ]
  },
  {
   "cell_type": "code",
   "execution_count": 5,
   "metadata": {},
   "outputs": [
    {
     "data": {
      "text/plain": [
       "list"
      ]
     },
     "execution_count": 5,
     "metadata": {},
     "output_type": "execute_result"
    }
   ],
   "source": [
    "type(train_data)"
   ]
  },
  {
   "cell_type": "code",
   "execution_count": 6,
   "metadata": {},
   "outputs": [
    {
     "data": {
      "text/plain": [
       "1000"
      ]
     },
     "execution_count": 6,
     "metadata": {},
     "output_type": "execute_result"
    }
   ],
   "source": [
    "len(test_data)"
   ]
  },
  {
   "cell_type": "code",
   "execution_count": 7,
   "metadata": {},
   "outputs": [
    {
     "data": {
      "text/plain": [
       "10000"
      ]
     },
     "execution_count": 7,
     "metadata": {},
     "output_type": "execute_result"
    }
   ],
   "source": [
    "len(train_data)"
   ]
  },
  {
   "cell_type": "code",
   "execution_count": 8,
   "metadata": {},
   "outputs": [
    {
     "data": {
      "text/plain": [
       "(['Mary',\n",
       "  'moved',\n",
       "  'to',\n",
       "  'the',\n",
       "  'bathroom',\n",
       "  '.',\n",
       "  'Sandra',\n",
       "  'journeyed',\n",
       "  'to',\n",
       "  'the',\n",
       "  'bedroom',\n",
       "  '.'],\n",
       " ['Is', 'Sandra', 'in', 'the', 'hallway', '?'],\n",
       " 'no')"
      ]
     },
     "execution_count": 8,
     "metadata": {},
     "output_type": "execute_result"
    }
   ],
   "source": [
    "train_data[0]"
   ]
  },
  {
   "cell_type": "code",
   "execution_count": 9,
   "metadata": {},
   "outputs": [
    {
     "data": {
      "text/plain": [
       "'Mary moved to the bathroom . Sandra journeyed to the bedroom .'"
      ]
     },
     "execution_count": 9,
     "metadata": {},
     "output_type": "execute_result"
    }
   ],
   "source": [
    "' '.join(train_data[0][0])"
   ]
  },
  {
   "cell_type": "code",
   "execution_count": 10,
   "metadata": {},
   "outputs": [
    {
     "data": {
      "text/plain": [
       "'Is Sandra in the hallway ?'"
      ]
     },
     "execution_count": 10,
     "metadata": {},
     "output_type": "execute_result"
    }
   ],
   "source": [
    "' '.join(train_data[0][1])"
   ]
  },
  {
   "cell_type": "code",
   "execution_count": 11,
   "metadata": {},
   "outputs": [
    {
     "data": {
      "text/plain": [
       "'no'"
      ]
     },
     "execution_count": 11,
     "metadata": {},
     "output_type": "execute_result"
    }
   ],
   "source": [
    "train_data[0][2]"
   ]
  },
  {
   "cell_type": "code",
   "execution_count": 12,
   "metadata": {},
   "outputs": [],
   "source": [
    "# Create a set that holds the vocab words\n",
    "vocab = set()"
   ]
  },
  {
   "cell_type": "code",
   "execution_count": 13,
   "metadata": {},
   "outputs": [],
   "source": [
    "all_data = test_data + train_data"
   ]
  },
  {
   "cell_type": "code",
   "execution_count": 14,
   "metadata": {},
   "outputs": [],
   "source": [
    "for story, question , answer in all_data:\n",
    "    # In case you don't know what a union of sets is:\n",
    "    # https://www.programiz.com/python-programming/methods/set/union\n",
    "    vocab = vocab.union(set(story))\n",
    "    vocab = vocab.union(set(question))"
   ]
  },
  {
   "cell_type": "code",
   "execution_count": 15,
   "metadata": {},
   "outputs": [],
   "source": [
    "vocab.add('no')\n",
    "vocab.add('yes')"
   ]
  },
  {
   "cell_type": "code",
   "execution_count": 16,
   "metadata": {},
   "outputs": [
    {
     "data": {
      "text/plain": [
       "{'.',\n",
       " '?',\n",
       " 'Daniel',\n",
       " 'Is',\n",
       " 'John',\n",
       " 'Mary',\n",
       " 'Sandra',\n",
       " 'apple',\n",
       " 'back',\n",
       " 'bathroom',\n",
       " 'bedroom',\n",
       " 'discarded',\n",
       " 'down',\n",
       " 'dropped',\n",
       " 'football',\n",
       " 'garden',\n",
       " 'got',\n",
       " 'grabbed',\n",
       " 'hallway',\n",
       " 'in',\n",
       " 'journeyed',\n",
       " 'kitchen',\n",
       " 'left',\n",
       " 'milk',\n",
       " 'moved',\n",
       " 'no',\n",
       " 'office',\n",
       " 'picked',\n",
       " 'put',\n",
       " 'the',\n",
       " 'there',\n",
       " 'to',\n",
       " 'took',\n",
       " 'travelled',\n",
       " 'up',\n",
       " 'went',\n",
       " 'yes'}"
      ]
     },
     "execution_count": 16,
     "metadata": {},
     "output_type": "execute_result"
    }
   ],
   "source": [
    "vocab"
   ]
  },
  {
   "cell_type": "code",
   "execution_count": 17,
   "metadata": {},
   "outputs": [],
   "source": [
    "vocab_len = len(vocab) + 1 #we add an extra space to hold a 0 for Keras's pad_sequences"
   ]
  },
  {
   "cell_type": "code",
   "execution_count": 18,
   "metadata": {},
   "outputs": [],
   "source": [
    "max_story_len = max([len(data[0]) for data in all_data])"
   ]
  },
  {
   "cell_type": "code",
   "execution_count": 19,
   "metadata": {},
   "outputs": [
    {
     "data": {
      "text/plain": [
       "156"
      ]
     },
     "execution_count": 19,
     "metadata": {},
     "output_type": "execute_result"
    }
   ],
   "source": [
    "max_story_len"
   ]
  },
  {
   "cell_type": "code",
   "execution_count": 20,
   "metadata": {},
   "outputs": [],
   "source": [
    "max_question_len = max([len(data[1]) for data in all_data])"
   ]
  },
  {
   "cell_type": "code",
   "execution_count": 21,
   "metadata": {},
   "outputs": [
    {
     "data": {
      "text/plain": [
       "6"
      ]
     },
     "execution_count": 21,
     "metadata": {},
     "output_type": "execute_result"
    }
   ],
   "source": [
    "max_question_len"
   ]
  },
  {
   "cell_type": "code",
   "execution_count": 26,
   "metadata": {},
   "outputs": [
    {
     "data": {
      "text/plain": [
       "{'.',\n",
       " '?',\n",
       " 'Daniel',\n",
       " 'Is',\n",
       " 'John',\n",
       " 'Mary',\n",
       " 'Sandra',\n",
       " 'apple',\n",
       " 'back',\n",
       " 'bathroom',\n",
       " 'bedroom',\n",
       " 'discarded',\n",
       " 'down',\n",
       " 'dropped',\n",
       " 'football',\n",
       " 'garden',\n",
       " 'got',\n",
       " 'grabbed',\n",
       " 'hallway',\n",
       " 'in',\n",
       " 'journeyed',\n",
       " 'kitchen',\n",
       " 'left',\n",
       " 'milk',\n",
       " 'moved',\n",
       " 'no',\n",
       " 'office',\n",
       " 'picked',\n",
       " 'put',\n",
       " 'the',\n",
       " 'there',\n",
       " 'to',\n",
       " 'took',\n",
       " 'travelled',\n",
       " 'up',\n",
       " 'went',\n",
       " 'yes'}"
      ]
     },
     "execution_count": 26,
     "metadata": {},
     "output_type": "execute_result"
    }
   ],
   "source": [
    "vocab"
   ]
  },
  {
   "cell_type": "code",
   "execution_count": 27,
   "metadata": {},
   "outputs": [],
   "source": [
    "# Reserve 0 for pad_sequences\n",
    "vocab_size = len(vocab) + 1"
   ]
  },
  {
   "cell_type": "code",
   "execution_count": 28,
   "metadata": {},
   "outputs": [],
   "source": [
    "from keras.preprocessing.sequence import pad_sequences\n",
    "from keras.preprocessing.text import Tokenizer"
   ]
  },
  {
   "cell_type": "code",
   "execution_count": 29,
   "metadata": {},
   "outputs": [],
   "source": [
    "# integer encode sequences of words\n",
    "tokenizer = Tokenizer(filters=[])\n",
    "tokenizer.fit_on_texts(vocab)"
   ]
  },
  {
   "cell_type": "code",
   "execution_count": 30,
   "metadata": {},
   "outputs": [
    {
     "data": {
      "text/plain": [
       "{'kitchen': 1,\n",
       " 'is': 2,\n",
       " '.': 3,\n",
       " 'office': 4,\n",
       " 'journeyed': 5,\n",
       " 'apple': 6,\n",
       " 'up': 7,\n",
       " 'moved': 8,\n",
       " 'travelled': 9,\n",
       " 'picked': 10,\n",
       " 'no': 11,\n",
       " 'yes': 12,\n",
       " 'bathroom': 13,\n",
       " 'in': 14,\n",
       " 'bedroom': 15,\n",
       " 'went': 16,\n",
       " 'football': 17,\n",
       " 'garden': 18,\n",
       " 'hallway': 19,\n",
       " 'got': 20,\n",
       " 'grabbed': 21,\n",
       " 'down': 22,\n",
       " 'mary': 23,\n",
       " 'to': 24,\n",
       " 'put': 25,\n",
       " 'back': 26,\n",
       " 'john': 27,\n",
       " 'the': 28,\n",
       " 'there': 29,\n",
       " 'dropped': 30,\n",
       " 'milk': 31,\n",
       " 'discarded': 32,\n",
       " 'left': 33,\n",
       " 'daniel': 34,\n",
       " '?': 35,\n",
       " 'took': 36,\n",
       " 'sandra': 37}"
      ]
     },
     "execution_count": 30,
     "metadata": {},
     "output_type": "execute_result"
    }
   ],
   "source": [
    "tokenizer.word_index"
   ]
  },
  {
   "cell_type": "code",
   "execution_count": 31,
   "metadata": {},
   "outputs": [],
   "source": [
    "train_story_text = []\n",
    "train_question_text = []\n",
    "train_answers = []\n",
    "\n",
    "for story,question,answer in train_data:\n",
    "    train_story_text.append(story)\n",
    "    train_question_text.append(question)"
   ]
  },
  {
   "cell_type": "code",
   "execution_count": 32,
   "metadata": {},
   "outputs": [],
   "source": [
    "train_story_seq = tokenizer.texts_to_sequences(train_story_text)"
   ]
  },
  {
   "cell_type": "code",
   "execution_count": 33,
   "metadata": {},
   "outputs": [
    {
     "data": {
      "text/plain": [
       "10000"
      ]
     },
     "execution_count": 33,
     "metadata": {},
     "output_type": "execute_result"
    }
   ],
   "source": [
    "len(train_story_text)"
   ]
  },
  {
   "cell_type": "code",
   "execution_count": 34,
   "metadata": {},
   "outputs": [
    {
     "data": {
      "text/plain": [
       "10000"
      ]
     },
     "execution_count": 34,
     "metadata": {},
     "output_type": "execute_result"
    }
   ],
   "source": [
    "len(train_story_seq)"
   ]
  },
  {
   "cell_type": "code",
   "execution_count": 35,
   "metadata": {},
   "outputs": [],
   "source": [
    "# word_index = tokenizer.word_index"
   ]
  },
  {
   "cell_type": "code",
   "execution_count": 36,
   "metadata": {},
   "outputs": [],
   "source": [
    "def vectorize_stories(data, word_index=tokenizer.word_index, max_story_len=max_story_len,max_question_len=max_question_len):\n",
    "    '''\n",
    "    INPUT: \n",
    "    \n",
    "    data: consisting of Stories,Queries,and Answers\n",
    "    word_index: word index dictionary from tokenizer\n",
    "    max_story_len: the length of the longest story (used for pad_sequences function)\n",
    "    max_question_len: length of the longest question (used for pad_sequences function)\n",
    "\n",
    "\n",
    "    OUTPUT:\n",
    "    \n",
    "    Vectorizes the stories,questions, and answers into padded sequences. We first loop for every story, query , and\n",
    "    answer in the data. Then we convert the raw words to an word index value. Then we append each set to their appropriate\n",
    "    output list. Then once we have converted the words to numbers, we pad the sequences so they are all of equal length.\n",
    "    \n",
    "    Returns this in the form of a tuple (X,Xq,Y) (padded based on max lengths)\n",
    "    '''\n",
    "    \n",
    "    \n",
    "    # X = STORIES\n",
    "    X = []\n",
    "    # Xq = QUERY/QUESTION\n",
    "    Xq = []\n",
    "    # Y = CORRECT ANSWER\n",
    "    Y = []\n",
    "    \n",
    "    \n",
    "    for story, query, answer in data:\n",
    "        \n",
    "        # Grab the word index for every word in story\n",
    "        x = [word_index[word.lower()] for word in story]\n",
    "        # Grab the word index for every word in query\n",
    "        xq = [word_index[word.lower()] for word in query]\n",
    "        \n",
    "        # Grab the Answers (either Yes/No so we don't need to use list comprehension here)\n",
    "        # Index 0 is reserved so we're going to use + 1\n",
    "        y = np.zeros(len(word_index) + 1)\n",
    "        \n",
    "        # Now that y is all zeros and we know its just Yes/No , we can use numpy logic to create this assignment\n",
    "        #\n",
    "        y[word_index[answer]] = 1\n",
    "        \n",
    "        # Append each set of story,query, and answer to their respective holding lists\n",
    "        X.append(x)\n",
    "        Xq.append(xq)\n",
    "        Y.append(y)\n",
    "        \n",
    "    # Finally, pad the sequences based on their max length so the RNN can be trained on uniformly long sequences.\n",
    "        \n",
    "    # RETURN TUPLE FOR UNPACKING\n",
    "    return (pad_sequences(X, maxlen=max_story_len),pad_sequences(Xq, maxlen=max_question_len), np.array(Y))"
   ]
  },
  {
   "cell_type": "code",
   "execution_count": 37,
   "metadata": {},
   "outputs": [],
   "source": [
    "inputs_train, queries_train, answers_train = vectorize_stories(train_data)"
   ]
  },
  {
   "cell_type": "code",
   "execution_count": 38,
   "metadata": {},
   "outputs": [],
   "source": [
    "inputs_test, queries_test, answers_test = vectorize_stories(test_data)"
   ]
  },
  {
   "cell_type": "code",
   "execution_count": 39,
   "metadata": {},
   "outputs": [
    {
     "data": {
      "text/plain": [
       "array([[ 0,  0,  0, ..., 28, 15,  3],\n",
       "       [ 0,  0,  0, ..., 28, 18,  3],\n",
       "       [ 0,  0,  0, ..., 28, 18,  3],\n",
       "       ...,\n",
       "       [ 0,  0,  0, ..., 28,  6,  3],\n",
       "       [ 0,  0,  0, ..., 28, 18,  3],\n",
       "       [ 0,  0,  0, ...,  6, 29,  3]])"
      ]
     },
     "execution_count": 39,
     "metadata": {},
     "output_type": "execute_result"
    }
   ],
   "source": [
    "inputs_test"
   ]
  },
  {
   "cell_type": "code",
   "execution_count": 40,
   "metadata": {},
   "outputs": [
    {
     "data": {
      "text/plain": [
       "array([[ 2, 27, 14, 28,  1, 35],\n",
       "       [ 2, 27, 14, 28,  1, 35],\n",
       "       [ 2, 27, 14, 28, 18, 35],\n",
       "       ...,\n",
       "       [ 2, 23, 14, 28, 15, 35],\n",
       "       [ 2, 37, 14, 28, 18, 35],\n",
       "       [ 2, 23, 14, 28, 18, 35]])"
      ]
     },
     "execution_count": 40,
     "metadata": {},
     "output_type": "execute_result"
    }
   ],
   "source": [
    "queries_test"
   ]
  },
  {
   "cell_type": "code",
   "execution_count": 41,
   "metadata": {},
   "outputs": [
    {
     "data": {
      "text/plain": [
       "array([[0., 0., 0., ..., 0., 0., 0.],\n",
       "       [0., 0., 0., ..., 0., 0., 0.],\n",
       "       [0., 0., 0., ..., 0., 0., 0.],\n",
       "       ...,\n",
       "       [0., 0., 0., ..., 0., 0., 0.],\n",
       "       [0., 0., 0., ..., 0., 0., 0.],\n",
       "       [0., 0., 0., ..., 0., 0., 0.]])"
      ]
     },
     "execution_count": 41,
     "metadata": {},
     "output_type": "execute_result"
    }
   ],
   "source": [
    "answers_test"
   ]
  },
  {
   "cell_type": "code",
   "execution_count": 42,
   "metadata": {},
   "outputs": [
    {
     "data": {
      "text/plain": [
       "array([  0.,   0.,   0.,   0.,   0.,   0.,   0.,   0.,   0.,   0.,   0.,\n",
       "       503., 497.,   0.,   0.,   0.,   0.,   0.,   0.,   0.,   0.,   0.,\n",
       "         0.,   0.,   0.,   0.,   0.,   0.,   0.,   0.,   0.,   0.,   0.,\n",
       "         0.,   0.,   0.,   0.,   0.])"
      ]
     },
     "execution_count": 42,
     "metadata": {},
     "output_type": "execute_result"
    }
   ],
   "source": [
    "sum(answers_test)"
   ]
  },
  {
   "cell_type": "code",
   "execution_count": 43,
   "metadata": {},
   "outputs": [
    {
     "data": {
      "text/plain": [
       "12"
      ]
     },
     "execution_count": 43,
     "metadata": {},
     "output_type": "execute_result"
    }
   ],
   "source": [
    "tokenizer.word_index['yes']"
   ]
  },
  {
   "cell_type": "code",
   "execution_count": 44,
   "metadata": {},
   "outputs": [
    {
     "data": {
      "text/plain": [
       "11"
      ]
     },
     "execution_count": 44,
     "metadata": {},
     "output_type": "execute_result"
    }
   ],
   "source": [
    "tokenizer.word_index['no']"
   ]
  },
  {
   "cell_type": "code",
   "execution_count": 46,
   "metadata": {},
   "outputs": [],
   "source": [
    "from keras.models import Sequential, Model\n",
    "from keras.layers import Embedding\n",
    "from keras.layers import Input, Activation, Dense, Permute, Dropout\n",
    "from keras.layers import add, dot, concatenate\n",
    "from keras.layers import LSTM"
   ]
  },
  {
   "cell_type": "code",
   "execution_count": 47,
   "metadata": {},
   "outputs": [],
   "source": [
    "input_sequence = Input((max_story_len,))\n",
    "question = Input((max_question_len,))"
   ]
  },
  {
   "cell_type": "code",
   "execution_count": 48,
   "metadata": {},
   "outputs": [],
   "source": [
    "# Input gets embedded to a sequence of vectors\n",
    "input_encoder_m = Sequential()\n",
    "input_encoder_m.add(Embedding(input_dim=vocab_size,output_dim=64))\n",
    "input_encoder_m.add(Dropout(0.3))\n",
    "\n",
    "# This encoder will output:\n",
    "# (samples, story_maxlen, embedding_dim)"
   ]
  },
  {
   "cell_type": "code",
   "execution_count": 49,
   "metadata": {},
   "outputs": [],
   "source": [
    "# embed the input into a sequence of vectors of size query_maxlen\n",
    "input_encoder_c = Sequential()\n",
    "input_encoder_c.add(Embedding(input_dim=vocab_size,output_dim=max_question_len))\n",
    "input_encoder_c.add(Dropout(0.3))\n",
    "# output: (samples, story_maxlen, query_maxlen)"
   ]
  },
  {
   "cell_type": "code",
   "execution_count": 50,
   "metadata": {},
   "outputs": [],
   "source": [
    "# embed the question into a sequence of vectors\n",
    "question_encoder = Sequential()\n",
    "question_encoder.add(Embedding(input_dim=vocab_size,\n",
    "                               output_dim=64,\n",
    "                               input_length=max_question_len))\n",
    "question_encoder.add(Dropout(0.3))\n",
    "# output: (samples, query_maxlen, embedding_dim)"
   ]
  },
  {
   "cell_type": "code",
   "execution_count": 51,
   "metadata": {},
   "outputs": [],
   "source": [
    "# encode input sequence and questions (which are indices)\n",
    "# to sequences of dense vectors\n",
    "input_encoded_m = input_encoder_m(input_sequence)\n",
    "input_encoded_c = input_encoder_c(input_sequence)\n",
    "question_encoded = question_encoder(question)"
   ]
  },
  {
   "cell_type": "code",
   "execution_count": 52,
   "metadata": {},
   "outputs": [],
   "source": [
    "# shape: `(samples, story_maxlen, query_maxlen)`\n",
    "match = dot([input_encoded_m, question_encoded], axes=(2, 2))\n",
    "match = Activation('softmax')(match)"
   ]
  },
  {
   "cell_type": "code",
   "execution_count": 53,
   "metadata": {},
   "outputs": [],
   "source": [
    "# add the match matrix with the second input vector sequence\n",
    "response = add([match, input_encoded_c])  # (samples, story_maxlen, query_maxlen)\n",
    "response = Permute((2, 1))(response)  # (samples, query_maxlen, story_maxlen)"
   ]
  },
  {
   "cell_type": "code",
   "execution_count": 54,
   "metadata": {},
   "outputs": [],
   "source": [
    "# concatenate the match matrix with the question vector sequence\n",
    "answer = concatenate([response, question_encoded])"
   ]
  },
  {
   "cell_type": "code",
   "execution_count": 55,
   "metadata": {},
   "outputs": [
    {
     "data": {
      "text/plain": [
       "<KerasTensor: shape=(None, 6, 220) dtype=float32 (created by layer 'concatenate')>"
      ]
     },
     "execution_count": 55,
     "metadata": {},
     "output_type": "execute_result"
    }
   ],
   "source": [
    "answer"
   ]
  },
  {
   "cell_type": "code",
   "execution_count": 56,
   "metadata": {},
   "outputs": [],
   "source": [
    "# Reduce with RNN (LSTM)\n",
    "answer = LSTM(32)(answer)  # (samples, 32)"
   ]
  },
  {
   "cell_type": "code",
   "execution_count": 57,
   "metadata": {},
   "outputs": [],
   "source": [
    "# Regularization with Dropout\n",
    "answer = Dropout(0.5)(answer)\n",
    "answer = Dense(vocab_size)(answer)  # (samples, vocab_size)"
   ]
  },
  {
   "cell_type": "code",
   "execution_count": 58,
   "metadata": {},
   "outputs": [],
   "source": [
    "# we output a probability distribution over the vocabulary\n",
    "answer = Activation('softmax')(answer)\n",
    "\n",
    "# build the final model\n",
    "model = Model([input_sequence, question], answer)\n",
    "model.compile(optimizer='rmsprop', loss='categorical_crossentropy',\n",
    "              metrics=['accuracy'])"
   ]
  },
  {
   "cell_type": "code",
   "execution_count": 59,
   "metadata": {},
   "outputs": [
    {
     "name": "stdout",
     "output_type": "stream",
     "text": [
      "Model: \"model\"\n",
      "__________________________________________________________________________________________________\n",
      " Layer (type)                Output Shape                 Param #   Connected to                  \n",
      "==================================================================================================\n",
      " input_1 (InputLayer)        [(None, 156)]                0         []                            \n",
      "                                                                                                  \n",
      " input_2 (InputLayer)        [(None, 6)]                  0         []                            \n",
      "                                                                                                  \n",
      " sequential (Sequential)     (None, None, 64)             2432      ['input_1[0][0]']             \n",
      "                                                                                                  \n",
      " sequential_2 (Sequential)   (None, 6, 64)                2432      ['input_2[0][0]']             \n",
      "                                                                                                  \n",
      " dot (Dot)                   (None, 156, 6)               0         ['sequential[0][0]',          \n",
      "                                                                     'sequential_2[0][0]']        \n",
      "                                                                                                  \n",
      " activation (Activation)     (None, 156, 6)               0         ['dot[0][0]']                 \n",
      "                                                                                                  \n",
      " sequential_1 (Sequential)   (None, None, 6)              228       ['input_1[0][0]']             \n",
      "                                                                                                  \n",
      " add (Add)                   (None, 156, 6)               0         ['activation[0][0]',          \n",
      "                                                                     'sequential_1[0][0]']        \n",
      "                                                                                                  \n",
      " permute (Permute)           (None, 6, 156)               0         ['add[0][0]']                 \n",
      "                                                                                                  \n",
      " concatenate (Concatenate)   (None, 6, 220)               0         ['permute[0][0]',             \n",
      "                                                                     'sequential_2[0][0]']        \n",
      "                                                                                                  \n",
      " lstm (LSTM)                 (None, 32)                   32384     ['concatenate[0][0]']         \n",
      "                                                                                                  \n",
      " dropout_3 (Dropout)         (None, 32)                   0         ['lstm[0][0]']                \n",
      "                                                                                                  \n",
      " dense (Dense)               (None, 38)                   1254      ['dropout_3[0][0]']           \n",
      "                                                                                                  \n",
      " activation_1 (Activation)   (None, 38)                   0         ['dense[0][0]']               \n",
      "                                                                                                  \n",
      "==================================================================================================\n",
      "Total params: 38730 (151.29 KB)\n",
      "Trainable params: 38730 (151.29 KB)\n",
      "Non-trainable params: 0 (0.00 Byte)\n",
      "__________________________________________________________________________________________________\n"
     ]
    }
   ],
   "source": [
    "model.summary()"
   ]
  },
  {
   "cell_type": "code",
   "execution_count": 60,
   "metadata": {},
   "outputs": [
    {
     "name": "stdout",
     "output_type": "stream",
     "text": [
      "Epoch 1/120\n",
      "313/313 [==============================] - 9s 19ms/step - loss: 0.8810 - accuracy: 0.5060 - val_loss: 0.6954 - val_accuracy: 0.4970\n",
      "Epoch 2/120\n",
      "313/313 [==============================] - 5s 16ms/step - loss: 0.7075 - accuracy: 0.4905 - val_loss: 0.6936 - val_accuracy: 0.4970\n",
      "Epoch 3/120\n",
      "313/313 [==============================] - 5s 15ms/step - loss: 0.6973 - accuracy: 0.5025 - val_loss: 0.6972 - val_accuracy: 0.4970\n",
      "Epoch 4/120\n",
      "313/313 [==============================] - 4s 14ms/step - loss: 0.6969 - accuracy: 0.4972 - val_loss: 0.6933 - val_accuracy: 0.4970\n",
      "Epoch 5/120\n",
      "313/313 [==============================] - 5s 16ms/step - loss: 0.6953 - accuracy: 0.5051 - val_loss: 0.6933 - val_accuracy: 0.4970\n",
      "Epoch 6/120\n",
      "313/313 [==============================] - 5s 16ms/step - loss: 0.6958 - accuracy: 0.4944 - val_loss: 0.6935 - val_accuracy: 0.4970\n",
      "Epoch 7/120\n",
      "313/313 [==============================] - 5s 14ms/step - loss: 0.6948 - accuracy: 0.5059 - val_loss: 0.6933 - val_accuracy: 0.4970\n",
      "Epoch 8/120\n",
      "313/313 [==============================] - 6s 21ms/step - loss: 0.6959 - accuracy: 0.4890 - val_loss: 0.6955 - val_accuracy: 0.5030\n",
      "Epoch 9/120\n",
      "313/313 [==============================] - 4s 13ms/step - loss: 0.6953 - accuracy: 0.4897 - val_loss: 0.6935 - val_accuracy: 0.5030\n",
      "Epoch 10/120\n",
      "313/313 [==============================] - 7s 21ms/step - loss: 0.6953 - accuracy: 0.4937 - val_loss: 0.6937 - val_accuracy: 0.5030\n",
      "Epoch 11/120\n",
      "313/313 [==============================] - 6s 19ms/step - loss: 0.6952 - accuracy: 0.4916 - val_loss: 0.6944 - val_accuracy: 0.4970\n",
      "Epoch 12/120\n",
      "313/313 [==============================] - 5s 16ms/step - loss: 0.6953 - accuracy: 0.4946 - val_loss: 0.6932 - val_accuracy: 0.4970\n",
      "Epoch 13/120\n",
      "313/313 [==============================] - 6s 21ms/step - loss: 0.6954 - accuracy: 0.4975 - val_loss: 0.6933 - val_accuracy: 0.5030\n",
      "Epoch 14/120\n",
      "313/313 [==============================] - 6s 19ms/step - loss: 0.6948 - accuracy: 0.5031 - val_loss: 0.6933 - val_accuracy: 0.5030\n",
      "Epoch 15/120\n",
      "313/313 [==============================] - 6s 18ms/step - loss: 0.6951 - accuracy: 0.4955 - val_loss: 0.6932 - val_accuracy: 0.4970\n",
      "Epoch 16/120\n",
      "313/313 [==============================] - 5s 17ms/step - loss: 0.6954 - accuracy: 0.4976 - val_loss: 0.6931 - val_accuracy: 0.5030\n",
      "Epoch 17/120\n",
      "313/313 [==============================] - 6s 19ms/step - loss: 0.6945 - accuracy: 0.5087 - val_loss: 0.6931 - val_accuracy: 0.5030\n",
      "Epoch 18/120\n",
      "313/313 [==============================] - 6s 19ms/step - loss: 0.6948 - accuracy: 0.5023 - val_loss: 0.6956 - val_accuracy: 0.4970\n",
      "Epoch 19/120\n",
      "313/313 [==============================] - 4s 14ms/step - loss: 0.6950 - accuracy: 0.4979 - val_loss: 0.6967 - val_accuracy: 0.4970\n",
      "Epoch 20/120\n",
      "313/313 [==============================] - 6s 19ms/step - loss: 0.6952 - accuracy: 0.4967 - val_loss: 0.6934 - val_accuracy: 0.4970\n",
      "Epoch 21/120\n",
      "313/313 [==============================] - 6s 19ms/step - loss: 0.6950 - accuracy: 0.4988 - val_loss: 0.6948 - val_accuracy: 0.5030\n",
      "Epoch 22/120\n",
      "313/313 [==============================] - 4s 13ms/step - loss: 0.6951 - accuracy: 0.4965 - val_loss: 0.6938 - val_accuracy: 0.5030\n",
      "Epoch 23/120\n",
      "313/313 [==============================] - 6s 19ms/step - loss: 0.6952 - accuracy: 0.4987 - val_loss: 0.6931 - val_accuracy: 0.5030\n",
      "Epoch 24/120\n",
      "313/313 [==============================] - 6s 19ms/step - loss: 0.6955 - accuracy: 0.4879 - val_loss: 0.6932 - val_accuracy: 0.5030\n",
      "Epoch 25/120\n",
      "313/313 [==============================] - 4s 14ms/step - loss: 0.6950 - accuracy: 0.4917 - val_loss: 0.6976 - val_accuracy: 0.4970\n",
      "Epoch 26/120\n",
      "313/313 [==============================] - 5s 17ms/step - loss: 0.6951 - accuracy: 0.4994 - val_loss: 0.6977 - val_accuracy: 0.4970\n",
      "Epoch 27/120\n",
      "313/313 [==============================] - 7s 22ms/step - loss: 0.6949 - accuracy: 0.5024 - val_loss: 0.6941 - val_accuracy: 0.4970\n",
      "Epoch 28/120\n",
      "313/313 [==============================] - 6s 20ms/step - loss: 0.6952 - accuracy: 0.5003 - val_loss: 0.6948 - val_accuracy: 0.4970\n",
      "Epoch 29/120\n",
      "313/313 [==============================] - 4s 13ms/step - loss: 0.6946 - accuracy: 0.4998 - val_loss: 0.6933 - val_accuracy: 0.4970\n",
      "Epoch 30/120\n",
      "313/313 [==============================] - 6s 19ms/step - loss: 0.6952 - accuracy: 0.4990 - val_loss: 0.6932 - val_accuracy: 0.5030\n",
      "Epoch 31/120\n",
      "313/313 [==============================] - 6s 19ms/step - loss: 0.6949 - accuracy: 0.4997 - val_loss: 0.6932 - val_accuracy: 0.5030\n",
      "Epoch 32/120\n",
      "313/313 [==============================] - 6s 19ms/step - loss: 0.6948 - accuracy: 0.4937 - val_loss: 0.6940 - val_accuracy: 0.5030\n",
      "Epoch 33/120\n",
      "313/313 [==============================] - 4s 12ms/step - loss: 0.6947 - accuracy: 0.4966 - val_loss: 0.6932 - val_accuracy: 0.4970\n",
      "Epoch 34/120\n",
      "313/313 [==============================] - 5s 15ms/step - loss: 0.6957 - accuracy: 0.4884 - val_loss: 0.6932 - val_accuracy: 0.4970\n",
      "Epoch 35/120\n",
      "313/313 [==============================] - 6s 19ms/step - loss: 0.6949 - accuracy: 0.4941 - val_loss: 0.6932 - val_accuracy: 0.5030\n",
      "Epoch 36/120\n",
      "313/313 [==============================] - 6s 19ms/step - loss: 0.6949 - accuracy: 0.4983 - val_loss: 0.6933 - val_accuracy: 0.4970\n",
      "Epoch 37/120\n",
      "313/313 [==============================] - 6s 19ms/step - loss: 0.6952 - accuracy: 0.4962 - val_loss: 0.6941 - val_accuracy: 0.5030\n",
      "Epoch 38/120\n",
      "313/313 [==============================] - 5s 17ms/step - loss: 0.6949 - accuracy: 0.4974 - val_loss: 0.6932 - val_accuracy: 0.4970\n",
      "Epoch 39/120\n",
      "313/313 [==============================] - 6s 20ms/step - loss: 0.6952 - accuracy: 0.4943 - val_loss: 0.6938 - val_accuracy: 0.4970\n",
      "Epoch 40/120\n",
      "313/313 [==============================] - 6s 20ms/step - loss: 0.6943 - accuracy: 0.5073 - val_loss: 0.6943 - val_accuracy: 0.4970\n",
      "Epoch 41/120\n",
      "313/313 [==============================] - 6s 20ms/step - loss: 0.6935 - accuracy: 0.5058 - val_loss: 0.6957 - val_accuracy: 0.4970\n",
      "Epoch 42/120\n",
      "313/313 [==============================] - 6s 19ms/step - loss: 0.6950 - accuracy: 0.5019 - val_loss: 0.6936 - val_accuracy: 0.4970\n",
      "Epoch 43/120\n",
      "313/313 [==============================] - 6s 20ms/step - loss: 0.6948 - accuracy: 0.4988 - val_loss: 0.6934 - val_accuracy: 0.4970\n",
      "Epoch 44/120\n",
      "313/313 [==============================] - 6s 20ms/step - loss: 0.6949 - accuracy: 0.4964 - val_loss: 0.6941 - val_accuracy: 0.5030\n",
      "Epoch 45/120\n",
      "313/313 [==============================] - 6s 20ms/step - loss: 0.6940 - accuracy: 0.5071 - val_loss: 0.6944 - val_accuracy: 0.5100\n",
      "Epoch 46/120\n",
      "313/313 [==============================] - 6s 20ms/step - loss: 0.6933 - accuracy: 0.5102 - val_loss: 0.6959 - val_accuracy: 0.5030\n",
      "Epoch 47/120\n",
      "313/313 [==============================] - 6s 20ms/step - loss: 0.6918 - accuracy: 0.5110 - val_loss: 0.6905 - val_accuracy: 0.5190\n",
      "Epoch 48/120\n",
      "313/313 [==============================] - 6s 20ms/step - loss: 0.6884 - accuracy: 0.5177 - val_loss: 0.6873 - val_accuracy: 0.5350\n",
      "Epoch 49/120\n",
      "313/313 [==============================] - 6s 20ms/step - loss: 0.6850 - accuracy: 0.5228 - val_loss: 0.6801 - val_accuracy: 0.5570\n",
      "Epoch 50/120\n",
      "313/313 [==============================] - 6s 20ms/step - loss: 0.6807 - accuracy: 0.5284 - val_loss: 0.6786 - val_accuracy: 0.5550\n",
      "Epoch 51/120\n",
      "313/313 [==============================] - 6s 20ms/step - loss: 0.6782 - accuracy: 0.5364 - val_loss: 0.6726 - val_accuracy: 0.5370\n",
      "Epoch 52/120\n",
      "313/313 [==============================] - 6s 20ms/step - loss: 0.6742 - accuracy: 0.5555 - val_loss: 0.6626 - val_accuracy: 0.5690\n",
      "Epoch 53/120\n",
      "313/313 [==============================] - 6s 20ms/step - loss: 0.6646 - accuracy: 0.5979 - val_loss: 0.6485 - val_accuracy: 0.6490\n",
      "Epoch 54/120\n",
      "313/313 [==============================] - 4s 13ms/step - loss: 0.6545 - accuracy: 0.6139 - val_loss: 0.6376 - val_accuracy: 0.6310\n",
      "Epoch 55/120\n",
      "313/313 [==============================] - 6s 20ms/step - loss: 0.6485 - accuracy: 0.6191 - val_loss: 0.6342 - val_accuracy: 0.6300\n",
      "Epoch 56/120\n",
      "313/313 [==============================] - 6s 20ms/step - loss: 0.6434 - accuracy: 0.6291 - val_loss: 0.6303 - val_accuracy: 0.6500\n",
      "Epoch 57/120\n"
     ]
    },
    {
     "name": "stdout",
     "output_type": "stream",
     "text": [
      "313/313 [==============================] - 6s 20ms/step - loss: 0.6367 - accuracy: 0.6427 - val_loss: 0.6249 - val_accuracy: 0.6560\n",
      "Epoch 58/120\n",
      "313/313 [==============================] - 7s 21ms/step - loss: 0.6329 - accuracy: 0.6535 - val_loss: 0.6227 - val_accuracy: 0.6500\n",
      "Epoch 59/120\n",
      "313/313 [==============================] - 6s 20ms/step - loss: 0.6297 - accuracy: 0.6507 - val_loss: 0.6179 - val_accuracy: 0.6490\n",
      "Epoch 60/120\n",
      "313/313 [==============================] - 6s 20ms/step - loss: 0.6239 - accuracy: 0.6540 - val_loss: 0.6176 - val_accuracy: 0.6430\n",
      "Epoch 61/120\n",
      "313/313 [==============================] - 6s 20ms/step - loss: 0.6167 - accuracy: 0.6605 - val_loss: 0.6093 - val_accuracy: 0.6530\n",
      "Epoch 62/120\n",
      "313/313 [==============================] - 6s 20ms/step - loss: 0.6137 - accuracy: 0.6636 - val_loss: 0.6129 - val_accuracy: 0.6600\n",
      "Epoch 63/120\n",
      "313/313 [==============================] - 7s 23ms/step - loss: 0.6083 - accuracy: 0.6658 - val_loss: 0.6101 - val_accuracy: 0.6550\n",
      "Epoch 64/120\n",
      "313/313 [==============================] - 7s 24ms/step - loss: 0.6021 - accuracy: 0.6701 - val_loss: 0.6036 - val_accuracy: 0.6620\n",
      "Epoch 65/120\n",
      "313/313 [==============================] - 7s 23ms/step - loss: 0.5995 - accuracy: 0.6780 - val_loss: 0.5997 - val_accuracy: 0.6660\n",
      "Epoch 66/120\n",
      "313/313 [==============================] - 8s 24ms/step - loss: 0.5859 - accuracy: 0.6839 - val_loss: 0.5887 - val_accuracy: 0.6740\n",
      "Epoch 67/120\n",
      "313/313 [==============================] - 7s 22ms/step - loss: 0.5838 - accuracy: 0.6907 - val_loss: 0.5963 - val_accuracy: 0.6840\n",
      "Epoch 68/120\n",
      "313/313 [==============================] - 6s 20ms/step - loss: 0.5716 - accuracy: 0.7019 - val_loss: 0.5744 - val_accuracy: 0.6890\n",
      "Epoch 69/120\n",
      "313/313 [==============================] - 6s 20ms/step - loss: 0.5658 - accuracy: 0.7039 - val_loss: 0.5811 - val_accuracy: 0.7020\n",
      "Epoch 70/120\n",
      "313/313 [==============================] - 6s 20ms/step - loss: 0.5636 - accuracy: 0.7033 - val_loss: 0.5856 - val_accuracy: 0.6980\n",
      "Epoch 71/120\n",
      "313/313 [==============================] - 6s 20ms/step - loss: 0.5491 - accuracy: 0.7125 - val_loss: 0.5772 - val_accuracy: 0.7020\n",
      "Epoch 72/120\n",
      "313/313 [==============================] - 6s 19ms/step - loss: 0.5503 - accuracy: 0.7176 - val_loss: 0.5696 - val_accuracy: 0.6980\n",
      "Epoch 73/120\n",
      "313/313 [==============================] - 7s 21ms/step - loss: 0.5433 - accuracy: 0.7248 - val_loss: 0.5623 - val_accuracy: 0.7150\n",
      "Epoch 74/120\n",
      "313/313 [==============================] - 7s 22ms/step - loss: 0.5334 - accuracy: 0.7288 - val_loss: 0.5366 - val_accuracy: 0.7220\n",
      "Epoch 75/120\n",
      "313/313 [==============================] - 8s 27ms/step - loss: 0.5248 - accuracy: 0.7345 - val_loss: 0.5355 - val_accuracy: 0.7320\n",
      "Epoch 76/120\n",
      "313/313 [==============================] - 7s 22ms/step - loss: 0.5190 - accuracy: 0.7411 - val_loss: 0.5205 - val_accuracy: 0.7390\n",
      "Epoch 77/120\n",
      "313/313 [==============================] - 7s 24ms/step - loss: 0.5173 - accuracy: 0.7406 - val_loss: 0.5229 - val_accuracy: 0.7390\n",
      "Epoch 78/120\n",
      "313/313 [==============================] - 7s 23ms/step - loss: 0.5107 - accuracy: 0.7472 - val_loss: 0.5197 - val_accuracy: 0.7360\n",
      "Epoch 79/120\n",
      "313/313 [==============================] - 8s 26ms/step - loss: 0.5076 - accuracy: 0.7481 - val_loss: 0.5137 - val_accuracy: 0.7390\n",
      "Epoch 80/120\n",
      "313/313 [==============================] - 7s 24ms/step - loss: 0.4992 - accuracy: 0.7520 - val_loss: 0.5329 - val_accuracy: 0.7250\n",
      "Epoch 81/120\n",
      "313/313 [==============================] - 6s 20ms/step - loss: 0.4951 - accuracy: 0.7556 - val_loss: 0.5194 - val_accuracy: 0.7360\n",
      "Epoch 82/120\n",
      "313/313 [==============================] - 6s 20ms/step - loss: 0.4952 - accuracy: 0.7527 - val_loss: 0.5170 - val_accuracy: 0.7400\n",
      "Epoch 83/120\n",
      "313/313 [==============================] - 6s 20ms/step - loss: 0.4856 - accuracy: 0.7606 - val_loss: 0.5104 - val_accuracy: 0.7410\n",
      "Epoch 84/120\n",
      "313/313 [==============================] - 6s 20ms/step - loss: 0.4867 - accuracy: 0.7585 - val_loss: 0.5074 - val_accuracy: 0.7430\n",
      "Epoch 85/120\n",
      "313/313 [==============================] - 6s 20ms/step - loss: 0.4808 - accuracy: 0.7645 - val_loss: 0.5093 - val_accuracy: 0.7380\n",
      "Epoch 86/120\n",
      "313/313 [==============================] - 6s 20ms/step - loss: 0.4819 - accuracy: 0.7611 - val_loss: 0.5051 - val_accuracy: 0.7460\n",
      "Epoch 87/120\n",
      "313/313 [==============================] - 6s 20ms/step - loss: 0.4761 - accuracy: 0.7667 - val_loss: 0.4834 - val_accuracy: 0.7570\n",
      "Epoch 88/120\n",
      "313/313 [==============================] - 6s 21ms/step - loss: 0.4709 - accuracy: 0.7721 - val_loss: 0.4754 - val_accuracy: 0.7630\n",
      "Epoch 89/120\n",
      "313/313 [==============================] - 6s 20ms/step - loss: 0.4735 - accuracy: 0.7665 - val_loss: 0.4786 - val_accuracy: 0.7590\n",
      "Epoch 90/120\n",
      "313/313 [==============================] - 6s 20ms/step - loss: 0.4696 - accuracy: 0.7734 - val_loss: 0.4777 - val_accuracy: 0.7700\n",
      "Epoch 91/120\n",
      "313/313 [==============================] - 6s 20ms/step - loss: 0.4665 - accuracy: 0.7789 - val_loss: 0.4632 - val_accuracy: 0.7810\n",
      "Epoch 92/120\n",
      "313/313 [==============================] - 6s 20ms/step - loss: 0.4574 - accuracy: 0.7835 - val_loss: 0.4650 - val_accuracy: 0.7780\n",
      "Epoch 93/120\n",
      "313/313 [==============================] - 6s 20ms/step - loss: 0.4486 - accuracy: 0.7924 - val_loss: 0.4523 - val_accuracy: 0.7820\n",
      "Epoch 94/120\n",
      "313/313 [==============================] - 6s 20ms/step - loss: 0.4453 - accuracy: 0.7930 - val_loss: 0.4439 - val_accuracy: 0.7900\n",
      "Epoch 95/120\n",
      "313/313 [==============================] - 6s 20ms/step - loss: 0.4409 - accuracy: 0.7940 - val_loss: 0.4457 - val_accuracy: 0.7840\n",
      "Epoch 96/120\n",
      "313/313 [==============================] - 6s 20ms/step - loss: 0.4339 - accuracy: 0.7999 - val_loss: 0.4386 - val_accuracy: 0.7910\n",
      "Epoch 97/120\n",
      "313/313 [==============================] - 6s 20ms/step - loss: 0.4283 - accuracy: 0.8023 - val_loss: 0.4319 - val_accuracy: 0.7930\n",
      "Epoch 98/120\n",
      "313/313 [==============================] - 6s 20ms/step - loss: 0.4332 - accuracy: 0.7990 - val_loss: 0.4304 - val_accuracy: 0.7990\n",
      "Epoch 99/120\n",
      "313/313 [==============================] - 6s 20ms/step - loss: 0.4235 - accuracy: 0.8057 - val_loss: 0.4225 - val_accuracy: 0.8050\n",
      "Epoch 100/120\n",
      "313/313 [==============================] - 6s 20ms/step - loss: 0.4139 - accuracy: 0.8107 - val_loss: 0.4279 - val_accuracy: 0.8070\n",
      "Epoch 101/120\n",
      "313/313 [==============================] - 6s 20ms/step - loss: 0.4072 - accuracy: 0.8160 - val_loss: 0.4265 - val_accuracy: 0.8160\n",
      "Epoch 102/120\n",
      "313/313 [==============================] - 6s 20ms/step - loss: 0.4077 - accuracy: 0.8142 - val_loss: 0.3990 - val_accuracy: 0.8110\n",
      "Epoch 103/120\n",
      "313/313 [==============================] - 6s 20ms/step - loss: 0.4030 - accuracy: 0.8156 - val_loss: 0.4101 - val_accuracy: 0.8160\n",
      "Epoch 104/120\n",
      "313/313 [==============================] - 6s 20ms/step - loss: 0.3971 - accuracy: 0.8217 - val_loss: 0.4103 - val_accuracy: 0.8200\n",
      "Epoch 105/120\n",
      "313/313 [==============================] - 6s 20ms/step - loss: 0.3994 - accuracy: 0.8216 - val_loss: 0.4227 - val_accuracy: 0.7990\n",
      "Epoch 106/120\n",
      "313/313 [==============================] - 6s 20ms/step - loss: 0.3946 - accuracy: 0.8232 - val_loss: 0.4221 - val_accuracy: 0.8090\n",
      "Epoch 107/120\n",
      "313/313 [==============================] - 6s 20ms/step - loss: 0.3916 - accuracy: 0.8252 - val_loss: 0.4159 - val_accuracy: 0.8020\n",
      "Epoch 108/120\n",
      "313/313 [==============================] - 6s 20ms/step - loss: 0.3903 - accuracy: 0.8292 - val_loss: 0.4117 - val_accuracy: 0.8030\n",
      "Epoch 109/120\n",
      "313/313 [==============================] - 6s 20ms/step - loss: 0.3861 - accuracy: 0.8325 - val_loss: 0.4250 - val_accuracy: 0.8040\n",
      "Epoch 110/120\n",
      "313/313 [==============================] - 6s 20ms/step - loss: 0.3852 - accuracy: 0.8280 - val_loss: 0.4255 - val_accuracy: 0.8090\n",
      "Epoch 111/120\n",
      "313/313 [==============================] - 6s 20ms/step - loss: 0.3871 - accuracy: 0.8280 - val_loss: 0.4266 - val_accuracy: 0.8080\n",
      "Epoch 112/120\n",
      "313/313 [==============================] - 6s 20ms/step - loss: 0.3780 - accuracy: 0.8311 - val_loss: 0.4269 - val_accuracy: 0.8060\n",
      "Epoch 113/120\n"
     ]
    },
    {
     "name": "stdout",
     "output_type": "stream",
     "text": [
      "313/313 [==============================] - 6s 20ms/step - loss: 0.3785 - accuracy: 0.8306 - val_loss: 0.4156 - val_accuracy: 0.8170\n",
      "Epoch 114/120\n",
      "313/313 [==============================] - 6s 20ms/step - loss: 0.3713 - accuracy: 0.8389 - val_loss: 0.4145 - val_accuracy: 0.8060\n",
      "Epoch 115/120\n",
      "313/313 [==============================] - 6s 20ms/step - loss: 0.3712 - accuracy: 0.8378 - val_loss: 0.4146 - val_accuracy: 0.8090\n",
      "Epoch 116/120\n",
      "313/313 [==============================] - 6s 20ms/step - loss: 0.3707 - accuracy: 0.8367 - val_loss: 0.4286 - val_accuracy: 0.8150\n",
      "Epoch 117/120\n",
      "313/313 [==============================] - 6s 20ms/step - loss: 0.3627 - accuracy: 0.8429 - val_loss: 0.4044 - val_accuracy: 0.8140\n",
      "Epoch 118/120\n",
      "313/313 [==============================] - 6s 20ms/step - loss: 0.3633 - accuracy: 0.8373 - val_loss: 0.4285 - val_accuracy: 0.8070\n",
      "Epoch 119/120\n",
      "313/313 [==============================] - 6s 20ms/step - loss: 0.3617 - accuracy: 0.8414 - val_loss: 0.4188 - val_accuracy: 0.8200\n",
      "Epoch 120/120\n",
      "313/313 [==============================] - 6s 20ms/step - loss: 0.3588 - accuracy: 0.8439 - val_loss: 0.4108 - val_accuracy: 0.8140\n"
     ]
    }
   ],
   "source": [
    "# train\n",
    "history = model.fit([inputs_train, queries_train], answers_train,batch_size=32,epochs=120,validation_data=([inputs_test, queries_test], answers_test))"
   ]
  },
  {
   "cell_type": "code",
   "execution_count": 80,
   "metadata": {},
   "outputs": [
    {
     "name": "stdout",
     "output_type": "stream",
     "text": [
      "INFO:tensorflow:Assets written to: chatbot\\assets\n"
     ]
    },
    {
     "name": "stderr",
     "output_type": "stream",
     "text": [
      "INFO:tensorflow:Assets written to: chatbot\\assets\n"
     ]
    }
   ],
   "source": [
    "filename = 'chatbot'\n",
    "model.save(filename)"
   ]
  },
  {
   "cell_type": "code",
   "execution_count": 81,
   "metadata": {},
   "outputs": [
    {
     "name": "stdout",
     "output_type": "stream",
     "text": [
      "32/32 [==============================] - 0s 4ms/step\n"
     ]
    }
   ],
   "source": [
    "model.load_weights(filename)\n",
    "pred_results = model.predict(([inputs_test, queries_test]))"
   ]
  },
  {
   "cell_type": "code",
   "execution_count": 82,
   "metadata": {},
   "outputs": [
    {
     "data": {
      "text/plain": [
       "['Mary',\n",
       " 'got',\n",
       " 'the',\n",
       " 'milk',\n",
       " 'there',\n",
       " '.',\n",
       " 'John',\n",
       " 'moved',\n",
       " 'to',\n",
       " 'the',\n",
       " 'bedroom',\n",
       " '.']"
      ]
     },
     "execution_count": 82,
     "metadata": {},
     "output_type": "execute_result"
    }
   ],
   "source": [
    "test_data[0][0]"
   ]
  },
  {
   "cell_type": "code",
   "execution_count": 83,
   "metadata": {},
   "outputs": [
    {
     "name": "stdout",
     "output_type": "stream",
     "text": [
      "Mary got the milk there . John moved to the bedroom .\n"
     ]
    }
   ],
   "source": [
    "story =' '.join(word for word in test_data[0][0])\n",
    "print(story)"
   ]
  },
  {
   "cell_type": "code",
   "execution_count": 84,
   "metadata": {},
   "outputs": [
    {
     "name": "stdout",
     "output_type": "stream",
     "text": [
      "Is John in the kitchen ?\n"
     ]
    }
   ],
   "source": [
    "query = ' '.join(word for word in test_data[0][1])\n",
    "print(query)"
   ]
  },
  {
   "cell_type": "code",
   "execution_count": 85,
   "metadata": {},
   "outputs": [
    {
     "name": "stdout",
     "output_type": "stream",
     "text": [
      "True Test Answer from Data is: no\n"
     ]
    }
   ],
   "source": [
    "print(\"True Test Answer from Data is:\",test_data[0][2])"
   ]
  },
  {
   "cell_type": "code",
   "execution_count": 86,
   "metadata": {},
   "outputs": [
    {
     "name": "stdout",
     "output_type": "stream",
     "text": [
      "Predicted answer is:  no\n",
      "Probability of certainty was:  0.9961104\n"
     ]
    }
   ],
   "source": [
    "#Generate prediction from model\n",
    "val_max = np.argmax(pred_results[0])\n",
    "\n",
    "for key, val in tokenizer.word_index.items():\n",
    "    if val == val_max:\n",
    "        k = key\n",
    "\n",
    "print(\"Predicted answer is: \", k)\n",
    "print(\"Probability of certainty was: \", pred_results[0][val_max])"
   ]
  },
  {
   "cell_type": "code",
   "execution_count": 87,
   "metadata": {},
   "outputs": [
    {
     "data": {
      "text/plain": [
       "{'.',\n",
       " '?',\n",
       " 'Daniel',\n",
       " 'Is',\n",
       " 'John',\n",
       " 'Mary',\n",
       " 'Sandra',\n",
       " 'apple',\n",
       " 'back',\n",
       " 'bathroom',\n",
       " 'bedroom',\n",
       " 'discarded',\n",
       " 'down',\n",
       " 'dropped',\n",
       " 'football',\n",
       " 'garden',\n",
       " 'got',\n",
       " 'grabbed',\n",
       " 'hallway',\n",
       " 'in',\n",
       " 'journeyed',\n",
       " 'kitchen',\n",
       " 'left',\n",
       " 'milk',\n",
       " 'moved',\n",
       " 'no',\n",
       " 'office',\n",
       " 'picked',\n",
       " 'put',\n",
       " 'the',\n",
       " 'there',\n",
       " 'to',\n",
       " 'took',\n",
       " 'travelled',\n",
       " 'up',\n",
       " 'went',\n",
       " 'yes'}"
      ]
     },
     "execution_count": 87,
     "metadata": {},
     "output_type": "execute_result"
    }
   ],
   "source": [
    "vocab"
   ]
  },
  {
   "cell_type": "code",
   "execution_count": 99,
   "metadata": {},
   "outputs": [
    {
     "data": {
      "text/plain": [
       "['John',\n",
       " 'left',\n",
       " 'the',\n",
       " 'kitchen',\n",
       " '.',\n",
       " 'Sandra',\n",
       " 'dropped',\n",
       " 'the',\n",
       " 'football',\n",
       " 'in',\n",
       " 'the',\n",
       " 'garden',\n",
       " '.']"
      ]
     },
     "execution_count": 99,
     "metadata": {},
     "output_type": "execute_result"
    }
   ],
   "source": [
    "# Note the whitespace of the periods\n",
    "my_story = \"John left the kitchen . Sandra dropped the football in the garden .\"\n",
    "my_story.split()"
   ]
  },
  {
   "cell_type": "code",
   "execution_count": 100,
   "metadata": {},
   "outputs": [],
   "source": [
    "my_question = \"Is the football in the garden ?\""
   ]
  },
  {
   "cell_type": "code",
   "execution_count": 101,
   "metadata": {},
   "outputs": [
    {
     "data": {
      "text/plain": [
       "['Is', 'the', 'football', 'in', 'the', 'garden', '?']"
      ]
     },
     "execution_count": 101,
     "metadata": {},
     "output_type": "execute_result"
    }
   ],
   "source": [
    "my_question.split()"
   ]
  },
  {
   "cell_type": "code",
   "execution_count": 102,
   "metadata": {},
   "outputs": [],
   "source": [
    "mydata = [(my_story.split(),my_question.split(),'yes')]"
   ]
  },
  {
   "cell_type": "code",
   "execution_count": 103,
   "metadata": {},
   "outputs": [],
   "source": [
    "my_story,my_ques,my_ans = vectorize_stories(mydata)"
   ]
  },
  {
   "cell_type": "code",
   "execution_count": 94,
   "metadata": {},
   "outputs": [
    {
     "name": "stdout",
     "output_type": "stream",
     "text": [
      "1/1 [==============================] - 0s 26ms/step\n"
     ]
    }
   ],
   "source": [
    "pred_results = model.predict(([ my_story, my_ques]))"
   ]
  },
  {
   "cell_type": "code",
   "execution_count": 96,
   "metadata": {},
   "outputs": [
    {
     "name": "stdout",
     "output_type": "stream",
     "text": [
      "Predicted answer is:  yes\n",
      "Probability of certainty was:  0.8018828\n"
     ]
    }
   ],
   "source": [
    "#Generate prediction from model\n",
    "val_max = np.argmax(pred_results[0])\n",
    "\n",
    "for key, val in tokenizer.word_index.items():\n",
    "    if val == val_max:\n",
    "        k = key\n",
    "\n",
    "print(\"Predicted answer is: \", k)\n",
    "print(\"Probability of certainty was: \", pred_results[0][val_max])"
   ]
  },
  {
   "cell_type": "code",
   "execution_count": 104,
   "metadata": {},
   "outputs": [],
   "source": [
    "with open('chatbot_model.pkl', 'wb') as model_file:\n",
    "    pickle.dump(model, model_file)"
   ]
  },
  {
   "cell_type": "code",
   "execution_count": 105,
   "metadata": {},
   "outputs": [],
   "source": [
    "pickle.dump(tokenizer,open('tokenizer.pkl','wb'))"
   ]
  },
  {
   "cell_type": "code",
   "execution_count": null,
   "metadata": {},
   "outputs": [],
   "source": []
  }
 ],
 "metadata": {
  "kernelspec": {
   "display_name": "Python 3 (ipykernel)",
   "language": "python",
   "name": "python3"
  },
  "language_info": {
   "codemirror_mode": {
    "name": "ipython",
    "version": 3
   },
   "file_extension": ".py",
   "mimetype": "text/x-python",
   "name": "python",
   "nbconvert_exporter": "python",
   "pygments_lexer": "ipython3",
   "version": "3.11.3"
  }
 },
 "nbformat": 4,
 "nbformat_minor": 2
}
